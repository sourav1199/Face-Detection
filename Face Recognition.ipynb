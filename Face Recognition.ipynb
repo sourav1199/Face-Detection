{
 "cells": [
  {
   "cell_type": "code",
   "execution_count": 1,
   "metadata": {},
   "outputs": [],
   "source": [
    "import cv2\n",
    "import os\n",
    "import numpy as np"
   ]
  },
  {
   "cell_type": "markdown",
   "metadata": {},
   "source": [
    "# Building Face Classifier"
   ]
  },
  {
   "cell_type": "code",
   "execution_count": 3,
   "metadata": {},
   "outputs": [],
   "source": [
    "def distance (v1,v2):\n",
    "    return np.sqrt(((v1-v2)**2).sum())\n",
    "\n",
    "def knn(train,test,k=5):\n",
    "    dist=[]\n",
    "    for i in range(train.shape[0]):\n",
    "        ix=train[i,:-1]\n",
    "        iy=train[i,-1]\n",
    "        d=distance(test,ix)\n",
    "        dist.append([d,iy])\n",
    "    dk=sorted(dist,key=lambda x:x[0])[:k]\n",
    "    labels=np.array(dk)[:,-1]\n",
    "    output=np.unique(labels,return_counts=True)\n",
    "    index=np.argmax(output[1])\n",
    "    return output[0][index]"
   ]
  },
  {
   "cell_type": "code",
   "execution_count": 4,
   "metadata": {},
   "outputs": [],
   "source": [
    "face_cascade=cv2.CascadeClassifier(\"haarcascade_frontalface_alt.xml\")\n",
    "data_set_path='I:/Face Recognition/'\n",
    "face_data=[]\n",
    "labels=[]\n",
    "class_id=0\n",
    "names={}"
   ]
  },
  {
   "cell_type": "code",
   "execution_count": 5,
   "metadata": {},
   "outputs": [
    {
     "data": {
      "text/plain": [
       "(42, 30000)"
      ]
     },
     "execution_count": 5,
     "metadata": {},
     "output_type": "execute_result"
    }
   ],
   "source": [
    "for fx in os.listdir(data_set_path):\n",
    "    if fx.endswith('.npy'):\n",
    "        names[class_id]=fx[:-4]\n",
    "        data_item=np.load(data_set_path+fx)\n",
    "        face_data.append(data_item)\n",
    "        target=class_id*np.ones((data_item.shape[0]))\n",
    "        class_id+=1\n",
    "        labels.append(target)\n",
    "face_dataset=np.concatenate(face_data,axis=0)\n",
    "face_labels=np.concatenate(labels,axis=0).reshape((-1,1))\n",
    "trainset=np.concatenate((face_dataset,face_labels),axis=1)\n",
    "face_dataset.shape"
   ]
  },
  {
   "cell_type": "markdown",
   "metadata": {},
   "source": [
    "# testing"
   ]
  },
  {
   "cell_type": "code",
   "execution_count": 6,
   "metadata": {},
   "outputs": [],
   "source": [
    "cap=cv2.VideoCapture(0)\n",
    "count=0\n",
    "while True:\n",
    "    ret,frame=cap.read()\n",
    "    if ret==False:\n",
    "        print(\"no face found!!!\")\n",
    "        continue\n",
    "    faces=face_cascade.detectMultiScale(frame,1.3,5)\n",
    "    for (x,y,w,h) in faces:\n",
    "        offset=10\n",
    "        offset=10\n",
    "        face_section=frame[y-offset:y+offset+h,x-offset:x+offset+w]\n",
    "        face_section=cv2.resize(face_section,(100,100))\n",
    "        out=knn(trainset,face_section.flatten())\n",
    "        pred_name=names[int(out)]\n",
    "        count+=1\n",
    "        #print(pred_name)\n",
    "        cv2.putText(frame,pred_name,(x,y-10),cv2.FONT_HERSHEY_TRIPLEX,1,(255,0,0),1,cv2.LINE_4)\n",
    "        cv2.rectangle(frame,(x,y),(x+w,y+h),(0,255,255),2)\n",
    "    cv2.imshow(\"frame\",frame)\n",
    "    if cv2.waitKey(1) & 0xff==ord('q'):\n",
    "        break\n",
    "cap.release()\n",
    "cv2.destroyAllWindows()"
   ]
  },
  {
   "cell_type": "code",
   "execution_count": null,
   "metadata": {},
   "outputs": [],
   "source": []
  }
 ],
 "metadata": {
  "kernelspec": {
   "display_name": "Python 3",
   "language": "python",
   "name": "python3"
  },
  "language_info": {
   "codemirror_mode": {
    "name": "ipython",
    "version": 3
   },
   "file_extension": ".py",
   "mimetype": "text/x-python",
   "name": "python",
   "nbconvert_exporter": "python",
   "pygments_lexer": "ipython3",
   "version": "3.7.1"
  }
 },
 "nbformat": 4,
 "nbformat_minor": 2
}
